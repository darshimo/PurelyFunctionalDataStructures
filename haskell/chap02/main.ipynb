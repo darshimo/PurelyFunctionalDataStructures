{
 "cells": [
  {
   "cell_type": "markdown",
   "metadata": {},
   "source": [
    "# 第2章 永続性"
   ]
  },
  {
   "cell_type": "markdown",
   "metadata": {},
   "source": [
    "## 2.1 リスト"
   ]
  },
  {
   "cell_type": "code",
   "execution_count": 59,
   "metadata": {},
   "outputs": [],
   "source": [
    ":load Stack\n",
    "import Stack\n",
    ":load CustomStack\n",
    "import CustomStack\n",
    ":load CustomList\n",
    "import CustomList"
   ]
  },
  {
   "cell_type": "code",
   "execution_count": 60,
   "metadata": {},
   "outputs": [],
   "source": [
    "(+++) :: Stack s => s a -> s a -> s a\n",
    "xs +++ ys = if isEmpty xs then ys else cons (Stack.head xs, Stack.tail xs +++ ys)\n",
    "infixr +++"
   ]
  },
  {
   "cell_type": "code",
   "execution_count": 61,
   "metadata": {},
   "outputs": [],
   "source": [
    "update :: Stack s => (s a, Int, a) -> s a\n",
    "update (xs, i, y)\n",
    "  | isEmpty xs = error \"SUBSCRIPT\"\n",
    "  | i == 0 = cons (y, Stack.tail xs)\n",
    "  | otherwise = cons (Stack.head xs, update (Stack.tail xs, i - 1, y))"
   ]
  },
  {
   "cell_type": "code",
   "execution_count": 62,
   "metadata": {},
   "outputs": [],
   "source": [
    "(>>>) :: Stack s => a -> s a -> s a\n",
    "x >>> s = cons (x, s)\n",
    "infixr >>>"
   ]
  },
  {
   "cell_type": "code",
   "execution_count": 63,
   "metadata": {},
   "outputs": [
    {
     "data": {
      "text/plain": [
       "\"ABC\""
      ]
     },
     "metadata": {},
     "output_type": "display_data"
    },
    {
     "data": {
      "text/plain": [
       "\"ABCABC\""
      ]
     },
     "metadata": {},
     "output_type": "display_data"
    },
    {
     "data": {
      "text/plain": [
       "\"ABCADC\""
      ]
     },
     "metadata": {},
     "output_type": "display_data"
    }
   ],
   "source": [
    "let f = fringe :: CustomStack Char -> String\n",
    "let s = 'A' >>> 'B' >>> 'C' >>> empty :: CustomStack Char\n",
    "f s\n",
    "f (s +++ s)\n",
    "f (update (s +++ s, 4, 'D'))"
   ]
  },
  {
   "cell_type": "code",
   "execution_count": 66,
   "metadata": {},
   "outputs": [
    {
     "data": {
      "text/plain": [
       "[\"A\",\"B\",\"C\"]"
      ]
     },
     "metadata": {},
     "output_type": "display_data"
    },
    {
     "data": {
      "text/plain": [
       "[\"A\",\"B\",\"C\",\"A\",\"B\",\"C\"]"
      ]
     },
     "metadata": {},
     "output_type": "display_data"
    },
    {
     "data": {
      "text/plain": [
       "[\"A\",\"B\",\"C\",\"A\",\"D\",\"C\"]"
      ]
     },
     "metadata": {},
     "output_type": "display_data"
    }
   ],
   "source": [
    "let f = fringe :: CustomList String -> [String]\n",
    "let s = \"A\" >>> \"B\" >>> \"C\" >>> empty :: CustomList String\n",
    "f s\n",
    "f (s +++ s)\n",
    "f (update (s +++ s, 4, \"D\"))"
   ]
  },
  {
   "cell_type": "markdown",
   "metadata": {},
   "source": [
    "### 演習問題 2.1"
   ]
  },
  {
   "cell_type": "code",
   "execution_count": 67,
   "metadata": {},
   "outputs": [
    {
     "data": {
      "text/plain": [
       "[[1,2,3,4],[2,3,4],[3,4],[4],[]]"
      ]
     },
     "metadata": {},
     "output_type": "display_data"
    }
   ],
   "source": [
    "suffixes :: [a] -> [[a]]\n",
    "suffixes [] = [[]]\n",
    "suffixes s @ (x : xs) = s : suffixes xs\n",
    "\n",
    "suffixes [1,2,3,4]"
   ]
  },
  {
   "cell_type": "markdown",
   "metadata": {},
   "source": [
    "## 2.2 二分探索木"
   ]
  }
 ],
 "metadata": {
  "kernelspec": {
   "display_name": "Haskell",
   "language": "haskell",
   "name": "haskell"
  },
  "language_info": {
   "codemirror_mode": "ihaskell",
   "file_extension": ".hs",
   "name": "haskell",
   "pygments_lexer": "Haskell",
   "version": "8.6.4"
  }
 },
 "nbformat": 4,
 "nbformat_minor": 2
}
