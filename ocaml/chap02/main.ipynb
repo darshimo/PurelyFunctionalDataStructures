{
 "cells": [
  {
   "cell_type": "markdown",
   "metadata": {},
   "source": [
    "# 第2章 永続性"
   ]
  },
  {
   "cell_type": "markdown",
   "metadata": {},
   "source": [
    "## 2.1 リスト"
   ]
  },
  {
   "cell_type": "code",
   "execution_count": 1,
   "metadata": {},
   "outputs": [
    {
     "data": {
      "text/plain": [
       "val ( ++ ) : 'a Stack.t -> 'a Stack.t -> 'a Stack.t = <fun>\n"
      ]
     },
     "execution_count": 1,
     "metadata": {},
     "output_type": "execute_result"
    }
   ],
   "source": [
    "#load \"stack.cmo\";;\n",
    "open Stack;;\n",
    "\n",
    "let rec (++) xs ys = if isEmpty xs then ys else cons (head xs, tail xs ++ ys)"
   ]
  },
  {
   "cell_type": "code",
   "execution_count": 2,
   "metadata": {},
   "outputs": [
    {
     "data": {
      "text/plain": [
       "val ( ++ ) : 'a list -> 'a list -> 'a list = <fun>\n"
      ]
     },
     "execution_count": 2,
     "metadata": {},
     "output_type": "execute_result"
    },
    {
     "data": {
      "text/plain": [
       "exception Subscript\n"
      ]
     },
     "execution_count": 2,
     "metadata": {},
     "output_type": "execute_result"
    },
    {
     "data": {
      "text/plain": [
       "val update : 'a list * int * 'a -> 'a list = <fun>\n"
      ]
     },
     "execution_count": 2,
     "metadata": {},
     "output_type": "execute_result"
    }
   ],
   "source": [
    "let rec (++) s ys =\n",
    "  match s with\n",
    "      [] -> ys\n",
    "    | (x :: xs) -> x :: (xs ++ ys)\n",
    "\n",
    "exception Subscript;;\n",
    "\n",
    "let rec update = function\n",
    "    ([], i, y) -> raise Subscript\n",
    "  | (x :: xs, 0, y) -> y :: xs\n",
    "  | (x :: xs, i, y) -> x :: update (xs, i - 1, y)"
   ]
  },
  {
   "cell_type": "markdown",
   "metadata": {},
   "source": [
    "### 演習問題 2.1"
   ]
  },
  {
   "cell_type": "code",
   "execution_count": 3,
   "metadata": {},
   "outputs": [
    {
     "data": {
      "text/plain": [
       "val suffixes : 'a list -> 'a list list = <fun>\n"
      ]
     },
     "execution_count": 3,
     "metadata": {},
     "output_type": "execute_result"
    }
   ],
   "source": [
    "let rec suffixes = function\n",
    "    | [] -> [[]]\n",
    "    | x :: xs as l -> l :: suffixes xs"
   ]
  },
  {
   "cell_type": "markdown",
   "metadata": {},
   "source": [
    "## 2.2 二分探索木"
   ]
  },
  {
   "cell_type": "code",
   "execution_count": 4,
   "metadata": {},
   "outputs": [
    {
     "data": {
      "text/plain": [
       "module IntSet :\n",
       "  sig\n",
       "    type elt = int\n",
       "    type t\n",
       "    val empty : t\n",
       "    val insert : elt * t * bool -> t\n",
       "    val member : elt * t * bool -> bool\n",
       "    val fringe : t -> elt list\n",
       "  end\n"
      ]
     },
     "execution_count": 4,
     "metadata": {},
     "output_type": "execute_result"
    },
    {
     "data": {
      "text/plain": [
       "val ( @> ) : IntSet.elt -> IntSet.t -> IntSet.t = <fun>\n"
      ]
     },
     "execution_count": 4,
     "metadata": {},
     "output_type": "execute_result"
    },
    {
     "data": {
      "text/plain": [
       "val s1 : IntSet.t = <abstr>\n"
      ]
     },
     "execution_count": 4,
     "metadata": {},
     "output_type": "execute_result"
    },
    {
     "data": {
      "text/plain": [
       "- : bool = true\n"
      ]
     },
     "execution_count": 4,
     "metadata": {},
     "output_type": "execute_result"
    },
    {
     "name": "stdout",
     "output_type": "stream",
     "text": [
      "6\n"
     ]
    },
    {
     "data": {
      "text/plain": [
       "val s2 : IntSet.t = <abstr>\n"
      ]
     },
     "execution_count": 4,
     "metadata": {},
     "output_type": "execute_result"
    },
    {
     "data": {
      "text/plain": [
       "- : bool = true\n"
      ]
     },
     "execution_count": 4,
     "metadata": {},
     "output_type": "execute_result"
    }
   ],
   "source": [
    "#load \"set.cmo\";;\n",
    "\n",
    "module IntSet = Set.Make(\n",
    "struct\n",
    "  type t = int\n",
    "\n",
    "  let eq = (=)\n",
    "  let lt = (<)\n",
    "  let leq = (<=)\n",
    "end)\n",
    "\n",
    "open IntSet;;\n",
    "\n",
    "let (@>) x t = insert (x, t, false);;\n",
    "\n",
    "let s1 = 1 @> 3 @> 2 @> 7 @> 6 @> 5 @> empty;;\n",
    "member (7, s1, true);;\n",
    "\n",
    "let s2 = 6 @> 5 @> 4 @> 3 @> 2 @> 1 @> empty;;\n",
    "member (6, s2, true);;"
   ]
  },
  {
   "cell_type": "markdown",
   "metadata": {},
   "source": [
    "### 演習問題 2.2 ~ 2.5"
   ]
  },
  {
   "cell_type": "code",
   "execution_count": 5,
   "metadata": {},
   "outputs": [
    {
     "name": "stdout",
     "output_type": "stream",
     "text": [
      "12\n"
     ]
    },
    {
     "data": {
      "text/plain": [
       "module IntSet :\n",
       "  sig\n",
       "    type elt = int\n",
       "    type t\n",
       "    val empty : t\n",
       "    val insert : elt * t * bool -> t\n",
       "    val member : elt * t * bool -> bool\n",
       "    val complete : elt * int -> t\n",
       "    val semicomplete : elt * int -> t\n",
       "    val fringe : t -> elt list\n",
       "  end\n"
      ]
     },
     "execution_count": 5,
     "metadata": {},
     "output_type": "execute_result"
    },
    {
     "data": {
      "text/plain": [
       "val ( @> ) : IntSet.elt -> IntSet.t -> IntSet.t = <fun>\n"
      ]
     },
     "execution_count": 5,
     "metadata": {},
     "output_type": "execute_result"
    },
    {
     "data": {
      "text/plain": [
       "val s1 : IntSet.t = <abstr>\n"
      ]
     },
     "execution_count": 5,
     "metadata": {},
     "output_type": "execute_result"
    },
    {
     "data": {
      "text/plain": [
       "- : bool = true\n"
      ]
     },
     "execution_count": 5,
     "metadata": {},
     "output_type": "execute_result"
    },
    {
     "name": "stdout",
     "output_type": "stream",
     "text": [
      "3\n"
     ]
    },
    {
     "data": {
      "text/plain": [
       "val s2 : IntSet.t = <abstr>\n"
      ]
     },
     "execution_count": 5,
     "metadata": {},
     "output_type": "execute_result"
    },
    {
     "data": {
      "text/plain": [
       "- : bool = true\n"
      ]
     },
     "execution_count": 5,
     "metadata": {},
     "output_type": "execute_result"
    }
   ],
   "source": [
    "#load \"set2.cmo\";;\n",
    "\n",
    "module IntSet = Set2.Make(\n",
    "struct\n",
    "  type t = int\n",
    "\n",
    "  let eq = (=)\n",
    "  let lt = (<)\n",
    "  let leq = (<=)\n",
    "end)\n",
    "\n",
    "open IntSet;;\n",
    "\n",
    "let (@>) x t = insert (x, t, false);;\n",
    "\n",
    "let s1 = 1 @> 3 @> 2 @> 7 @> 6 @> 5 @> empty;;\n",
    "member (7, s1, true);;\n",
    "\n",
    "let s2 = 6 @> 5 @> 4 @> 3 @> 2 @> 1 @> empty;;\n",
    "member (6, s2, true);;"
   ]
  },
  {
   "cell_type": "markdown",
   "metadata": {},
   "source": [
    "### 演習問題 2.6"
   ]
  },
  {
   "cell_type": "code",
   "execution_count": 6,
   "metadata": {},
   "outputs": [
    {
     "name": "stdout",
     "output_type": "stream",
     "text": [
      "6\n"
     ]
    },
    {
     "data": {
      "text/plain": [
       "module FiniteMap :\n",
       "  sig\n",
       "    type key = string\n",
       "    type 'a t\n",
       "    val empty : 'a t\n",
       "    val bind : key * 'a * 'a t -> 'a t\n",
       "    val lookup : key * 'a t -> 'a\n",
       "  end\n"
      ]
     },
     "execution_count": 6,
     "metadata": {},
     "output_type": "execute_result"
    },
    {
     "data": {
      "text/plain": [
       "val ( @> ) : FiniteMap.key * 'a -> 'a FiniteMap.t -> 'a FiniteMap.t = <fun>\n"
      ]
     },
     "execution_count": 6,
     "metadata": {},
     "output_type": "execute_result"
    },
    {
     "data": {
      "text/plain": [
       "val m1 : int FiniteMap.t = <abstr>\n"
      ]
     },
     "execution_count": 6,
     "metadata": {},
     "output_type": "execute_result"
    },
    {
     "data": {
      "text/plain": [
       "- : int = 2\n"
      ]
     },
     "execution_count": 6,
     "metadata": {},
     "output_type": "execute_result"
    },
    {
     "data": {
      "text/plain": [
       "- : int = 4\n"
      ]
     },
     "execution_count": 6,
     "metadata": {},
     "output_type": "execute_result"
    },
    {
     "ename": "error",
     "evalue": "runtime_error",
     "output_type": "error",
     "traceback": [
      "\u001b[31mException: Map.NOTFOUND.\nCalled from file \"toplevel/toploop.ml\", line 180, characters 17-56\n\u001b[0m"
     ]
    }
   ],
   "source": [
    "#load \"map.cmo\";;\n",
    "\n",
    "module FiniteMap = Map.Make(\n",
    "struct\n",
    "  type t = string\n",
    "\n",
    "  let eq = (=)\n",
    "  let lt = (<)\n",
    "  let leq = (<=)\n",
    "end)\n",
    "\n",
    "open FiniteMap;;\n",
    "\n",
    "let (@>) (k,v) m = bind (k,v,m);;\n",
    "\n",
    "let m1 = (\"shimo\",2) @> (\"taku\",4) @> (\"shimo\",6) @> empty;;\n",
    "\n",
    "lookup (\"shimo\",m1);;\n",
    "lookup (\"taku\",m1);;\n",
    "lookup (\"hoge\",m1);;"
   ]
  }
 ],
 "metadata": {
  "kernelspec": {
   "display_name": "OCaml 4.07.0",
   "language": "OCaml",
   "name": "ocaml-jupyter"
  },
  "language_info": {
   "codemirror_mode": "text/x-ocaml",
   "file_extension": ".ml",
   "mimetype": "text/x-ocaml",
   "name": "OCaml",
   "nbconverter_exporter": null,
   "pygments_lexer": "OCaml",
   "version": "4.07.0"
  }
 },
 "nbformat": 4,
 "nbformat_minor": 2
}
