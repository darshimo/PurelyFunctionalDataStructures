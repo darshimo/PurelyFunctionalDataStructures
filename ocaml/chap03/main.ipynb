{
 "cells": [
  {
   "cell_type": "markdown",
   "metadata": {},
   "source": [
    "# 第3章 古典的なデータ構造を関数型プログラミングで"
   ]
  },
  {
   "cell_type": "markdown",
   "metadata": {},
   "source": [
    "## 左偏ヒープ"
   ]
  },
  {
   "cell_type": "markdown",
   "metadata": {},
   "source": [
    "### 演習問題 3.1"
   ]
  },
  {
   "cell_type": "markdown",
   "metadata": {},
   "source": [
    "要素数を$n$、ランクを$r$とする。\n",
    "\n",
    "左右それぞれの木の要素数を$n1$、$r1$、ランクを$r1$、$r2$とすると以下が成り立つ。\n",
    "\n",
    "$$ r_1 \\ge r_2 $$\n",
    "$$ r = r_2 + 1 $$\n",
    "$$ n = n_1 + n_2 + 1 $$\n",
    "$$ \\log(n_i+1) \\ge r_i \\quad (i = {1,2})$$\n",
    "\n",
    "$$ \\Rightarrow n_i + 1 \\ge 2^{r_i} $$\n",
    "$$ \\Rightarrow n + 1 = 2^{r_1} + 2^{r_2} $$\n",
    "$$ \\Rightarrow n + 1 \\ge 2 \\times 2^{r_2} = 2 ^ {r_2 + 1} = 2^r $$\n",
    "$$ \\Rightarrow \\log(n + 1) \\ge r $$"
   ]
  },
  {
   "cell_type": "markdown",
   "metadata": {},
   "source": [
    "### 演習問題 3.2"
   ]
  },
  {
   "cell_type": "markdown",
   "metadata": {},
   "source": [
    "```ocaml\n",
    "let rec insert (x, h) =\n",
    "  match h with\n",
    "      E -> T (1, x, E, E)\n",
    "    | T (_, y, a, b) -> if Elem.leq x y then makeT (x, a, insert(y, b)) else makeT (y, a, insert(x, b))\n",
    "```"
   ]
  },
  {
   "cell_type": "markdown",
   "metadata": {},
   "source": [
    "### 演習問題 3.3"
   ]
  },
  {
   "cell_type": "code",
   "execution_count": 1,
   "metadata": {},
   "outputs": [
    {
     "data": {
      "text/plain": [
       "module H :\n",
       "  sig\n",
       "    module Ord :\n",
       "      sig\n",
       "        type t = int\n",
       "        val eq : t -> t -> bool\n",
       "        val lt : t -> t -> bool\n",
       "        val leq : t -> t -> bool\n",
       "      end\n",
       "    type t\n",
       "    val empty : t\n",
       "    val isEmpty : t -> bool\n",
       "    val insert : Ord.t * t -> t\n",
       "    val merge : t * t -> t\n",
       "    val findMin : t -> Ord.t\n",
       "    val deleteMin : t -> t\n",
       "    val fromList : Ord.t list -> t\n",
       "  end\n"
      ]
     },
     "execution_count": 1,
     "metadata": {},
     "output_type": "execute_result"
    },
    {
     "data": {
      "text/plain": [
       "val ( @> ) : H.Ord.t -> H.t -> H.t = <fun>\n"
      ]
     },
     "execution_count": 1,
     "metadata": {},
     "output_type": "execute_result"
    },
    {
     "data": {
      "text/plain": [
       "val h : H.t = <abstr>\n"
      ]
     },
     "execution_count": 1,
     "metadata": {},
     "output_type": "execute_result"
    },
    {
     "data": {
      "text/plain": [
       "- : H.Ord.t = 1\n"
      ]
     },
     "execution_count": 1,
     "metadata": {},
     "output_type": "execute_result"
    },
    {
     "data": {
      "text/plain": [
       "val h1 : H.t = <abstr>\n"
      ]
     },
     "execution_count": 1,
     "metadata": {},
     "output_type": "execute_result"
    },
    {
     "data": {
      "text/plain": [
       "- : H.Ord.t = 2\n"
      ]
     },
     "execution_count": 1,
     "metadata": {},
     "output_type": "execute_result"
    }
   ],
   "source": [
    "#load \"leftistHeap.cmo\"\n",
    "\n",
    "module H = LeftistHeap.Make(\n",
    "struct\n",
    "  type t = int\n",
    "\n",
    "  let eq = (=)\n",
    "  let lt = (<)\n",
    "  let leq = (<=)\n",
    "end)\n",
    "\n",
    "open H;;\n",
    "\n",
    "let (@>) x h = insert (x, h);;\n",
    "\n",
    "let h = fromList [2;5;3;6;7;1];;\n",
    "\n",
    "findMin h;;\n",
    "let h1 = deleteMin h;;\n",
    "findMin h1;;"
   ]
  },
  {
   "cell_type": "markdown",
   "metadata": {},
   "source": [
    "### 演習問題 3.4"
   ]
  },
  {
   "cell_type": "markdown",
   "metadata": {},
   "source": [
    "要素数を$n$、ランクを$r$とする。\n",
    "\n",
    "左右それぞれの木の要素数（ランク）を$n1$、$n2$とすると以下が成り立つ。\n",
    "\n",
    "$$ n_1 \\ge n_2 $$\n",
    "$$ r = r_2 + 1 $$\n",
    "\n",
    "$$ \\log(n_2+1) \\ge r_2 \\Rightarrow n_2 + 1 \\ge 2^{r_2} $$\n",
    "\n",
    "$$ n = n_1 + n_2 + 1 \\ge 2 \\times n_2 + 1$$\n",
    "$$ \\Rightarrow n + 1 \\ge 2 \\times (n_2 + 1) \\ge 2 \\times 2^{r_2} = 2 ^ {r_2 + 1} = 2^r $$\n",
    "$$ \\Rightarrow \\log(n + 1) \\ge r $$"
   ]
  },
  {
   "cell_type": "code",
   "execution_count": 2,
   "metadata": {},
   "outputs": [
    {
     "data": {
      "text/plain": [
       "module H :\n",
       "  sig\n",
       "    module Ord :\n",
       "      sig\n",
       "        type t = int\n",
       "        val eq : t -> t -> bool\n",
       "        val lt : t -> t -> bool\n",
       "        val leq : t -> t -> bool\n",
       "      end\n",
       "    type t\n",
       "    val empty : t\n",
       "    val isEmpty : t -> bool\n",
       "    val insert : Ord.t * t -> t\n",
       "    val merge : t * t -> t\n",
       "    val findMin : t -> Ord.t\n",
       "    val deleteMin : t -> t\n",
       "    val fromList : Ord.t list -> t\n",
       "  end\n"
      ]
     },
     "execution_count": 2,
     "metadata": {},
     "output_type": "execute_result"
    },
    {
     "data": {
      "text/plain": [
       "val ( @> ) : H.Ord.t -> H.t -> H.t = <fun>\n"
      ]
     },
     "execution_count": 2,
     "metadata": {},
     "output_type": "execute_result"
    },
    {
     "data": {
      "text/plain": [
       "val h : H.t = <abstr>\n"
      ]
     },
     "execution_count": 2,
     "metadata": {},
     "output_type": "execute_result"
    },
    {
     "data": {
      "text/plain": [
       "- : H.Ord.t = 1\n"
      ]
     },
     "execution_count": 2,
     "metadata": {},
     "output_type": "execute_result"
    },
    {
     "data": {
      "text/plain": [
       "val h1 : H.t = <abstr>\n"
      ]
     },
     "execution_count": 2,
     "metadata": {},
     "output_type": "execute_result"
    },
    {
     "data": {
      "text/plain": [
       "- : H.Ord.t = 3\n"
      ]
     },
     "execution_count": 2,
     "metadata": {},
     "output_type": "execute_result"
    }
   ],
   "source": [
    "#load \"weightedLeftistHeap.cmo\";;\n",
    "\n",
    "module H = WeightedLeftistHeap.Make(\n",
    "struct\n",
    "  type t = int\n",
    "\n",
    "  let eq = (=)\n",
    "  let lt = (<)\n",
    "  let leq = (<=)\n",
    "end)\n",
    "\n",
    "open H;;\n",
    "\n",
    "let (@>) x h = insert (x, h);;\n",
    "\n",
    "let h = fromList [9;5;3;6;7;1];;\n",
    "\n",
    "findMin h;;\n",
    "let h1 = deleteMin h;;\n",
    "findMin h1;;"
   ]
  },
  {
   "cell_type": "markdown",
   "metadata": {},
   "source": [
    "## 3.2 二項ヒープ"
   ]
  },
  {
   "cell_type": "markdown",
   "metadata": {},
   "source": [
    "### 演習問題 3.5"
   ]
  },
  {
   "cell_type": "markdown",
   "metadata": {},
   "source": [
    "```ocaml\n",
    "let rec findMin = function\n",
    "    [] -> raise EMPTY\n",
    "  | [t] -> root t\n",
    "  | t :: ts -> min (root t) (findMin ts)\n",
    "```"
   ]
  },
  {
   "cell_type": "markdown",
   "metadata": {},
   "source": [
    "### 演習問題 3.6"
   ]
  },
  {
   "cell_type": "code",
   "execution_count": 3,
   "metadata": {},
   "outputs": [
    {
     "data": {
      "text/plain": [
       "module H :\n",
       "  sig\n",
       "    module Ord :\n",
       "      sig\n",
       "        type t = int\n",
       "        val eq : t -> t -> bool\n",
       "        val lt : t -> t -> bool\n",
       "        val leq : t -> t -> bool\n",
       "      end\n",
       "    type t\n",
       "    val empty : t\n",
       "    val isEmpty : t -> bool\n",
       "    val insert : Ord.t * t -> t\n",
       "    val merge : t * t -> t\n",
       "    val findMin : t -> Ord.t\n",
       "    val deleteMin : t -> t\n",
       "  end\n"
      ]
     },
     "execution_count": 3,
     "metadata": {},
     "output_type": "execute_result"
    },
    {
     "data": {
      "text/plain": [
       "val ( @> ) : H.Ord.t -> H.t -> H.t = <fun>\n"
      ]
     },
     "execution_count": 3,
     "metadata": {},
     "output_type": "execute_result"
    },
    {
     "data": {
      "text/plain": [
       "val h : H.t = <abstr>\n"
      ]
     },
     "execution_count": 3,
     "metadata": {},
     "output_type": "execute_result"
    },
    {
     "data": {
      "text/plain": [
       "- : H.Ord.t = 1\n"
      ]
     },
     "execution_count": 3,
     "metadata": {},
     "output_type": "execute_result"
    },
    {
     "data": {
      "text/plain": [
       "val h1 : H.t = <abstr>\n"
      ]
     },
     "execution_count": 3,
     "metadata": {},
     "output_type": "execute_result"
    },
    {
     "data": {
      "text/plain": [
       "- : H.Ord.t = 3\n"
      ]
     },
     "execution_count": 3,
     "metadata": {},
     "output_type": "execute_result"
    }
   ],
   "source": [
    "#load \"binomialHeap.cmo\"\n",
    "\n",
    "module H = BinomialHeap.Make(\n",
    "struct\n",
    "  type t = int\n",
    "\n",
    "  let eq = (=)\n",
    "  let lt = (<)\n",
    "  let leq = (<=)\n",
    "end)\n",
    "\n",
    "open H;;\n",
    "\n",
    "let (@>) x h = insert (x, h);;\n",
    "\n",
    "let h = 9 @> 5 @> 3 @> 6 @> 1 @> empty;;\n",
    "\n",
    "findMin h;;\n",
    "let h1 = deleteMin h;;\n",
    "findMin h1;;"
   ]
  },
  {
   "cell_type": "markdown",
   "metadata": {},
   "source": [
    "### 演習問題 3.7"
   ]
  },
  {
   "cell_type": "code",
   "execution_count": 4,
   "metadata": {},
   "outputs": [
    {
     "data": {
      "text/plain": [
       "module H :\n",
       "  sig\n",
       "    module Ord :\n",
       "      sig\n",
       "        type t = int\n",
       "        val eq : t -> t -> bool\n",
       "        val lt : t -> t -> bool\n",
       "        val leq : t -> t -> bool\n",
       "      end\n",
       "    type t\n",
       "    val empty : t\n",
       "    val isEmpty : t -> bool\n",
       "    val insert : Ord.t * t -> t\n",
       "    val merge : t * t -> t\n",
       "    val findMin : t -> Ord.t\n",
       "    val deleteMin : t -> t\n",
       "  end\n"
      ]
     },
     "execution_count": 4,
     "metadata": {},
     "output_type": "execute_result"
    },
    {
     "data": {
      "text/plain": [
       "val ( @> ) : H.Ord.t -> H.t -> H.t = <fun>\n"
      ]
     },
     "execution_count": 4,
     "metadata": {},
     "output_type": "execute_result"
    },
    {
     "data": {
      "text/plain": [
       "val h : H.t = <abstr>\n"
      ]
     },
     "execution_count": 4,
     "metadata": {},
     "output_type": "execute_result"
    },
    {
     "data": {
      "text/plain": [
       "- : H.Ord.t = 1\n"
      ]
     },
     "execution_count": 4,
     "metadata": {},
     "output_type": "execute_result"
    },
    {
     "data": {
      "text/plain": [
       "val h1 : H.t = <abstr>\n"
      ]
     },
     "execution_count": 4,
     "metadata": {},
     "output_type": "execute_result"
    },
    {
     "data": {
      "text/plain": [
       "- : H.Ord.t = 3\n"
      ]
     },
     "execution_count": 4,
     "metadata": {},
     "output_type": "execute_result"
    }
   ],
   "source": [
    "#load \"explicitMinHeap.cmo\"\n",
    "\n",
    "module H = ExplicitMinHeap.Make(BinomialHeap.Make(\n",
    "struct\n",
    "  type t = int\n",
    "\n",
    "  let eq = (=)\n",
    "  let lt = (<)\n",
    "  let leq = (<=)\n",
    "end))\n",
    "\n",
    "open H;;\n",
    "\n",
    "let (@>) x h = insert (x, h);;\n",
    "\n",
    "let h = 11 @> 5 @> 3 @> 6 @> 1 @> empty;;\n",
    "\n",
    "findMin h;;\n",
    "let h1 = deleteMin h;;\n",
    "findMin h1;;"
   ]
  },
  {
   "cell_type": "markdown",
   "metadata": {},
   "source": [
    "### 3.3 赤黒木"
   ]
  },
  {
   "cell_type": "markdown",
   "metadata": {},
   "source": [
    "### 演習問題 3.8"
   ]
  },
  {
   "cell_type": "markdown",
   "metadata": {},
   "source": [
    "サイズ$n$の赤黒木の1つの経路上の黒いノードの数を$m$とすると、\n",
    "$$ n \\ge 2^m - 1 $$\n",
    "が成り立つ。\n",
    "また、この木の最大の深さを$d$とすると、\n",
    "$$ d \\le 2 \\times m \\le 2 \\times \\log (n + 1) $$"
   ]
  },
  {
   "cell_type": "markdown",
   "metadata": {},
   "source": [
    "### 演習問題 3.9 ~ 3.10"
   ]
  },
  {
   "cell_type": "code",
   "execution_count": 5,
   "metadata": {},
   "outputs": [
    {
     "data": {
      "text/plain": [
       "module RBS :\n",
       "  sig\n",
       "    type elt = int\n",
       "    type t\n",
       "    val empty : t\n",
       "    val insert : elt * t -> t\n",
       "    val member : elt * t -> bool\n",
       "    val fromOrdList : elt list -> t\n",
       "  end\n"
      ]
     },
     "execution_count": 5,
     "metadata": {},
     "output_type": "execute_result"
    },
    {
     "data": {
      "text/plain": [
       "val ( @> ) : RBS.elt -> RBS.t -> RBS.t = <fun>\n"
      ]
     },
     "execution_count": 5,
     "metadata": {},
     "output_type": "execute_result"
    },
    {
     "data": {
      "text/plain": [
       "val s : RBS.t = <abstr>\n"
      ]
     },
     "execution_count": 5,
     "metadata": {},
     "output_type": "execute_result"
    },
    {
     "data": {
      "text/plain": [
       "- : bool = true\n"
      ]
     },
     "execution_count": 5,
     "metadata": {},
     "output_type": "execute_result"
    }
   ],
   "source": [
    "#load \"redBlackSet.cmo\"\n",
    "\n",
    "module RBS = RedBlackSet.Make(\n",
    "struct\n",
    "  type t = int\n",
    "\n",
    "  let eq = (=)\n",
    "  let lt = (<)\n",
    "  let leq = (<=)\n",
    "end)\n",
    "\n",
    "open RBS;;\n",
    "\n",
    "let (@>) x s = insert (x, s);;\n",
    "\n",
    "let s = 1 @> 7 @> 4 @> 5 @> 9 @> empty;;\n",
    "\n",
    "member (1, s);;"
   ]
  }
 ],
 "metadata": {
  "kernelspec": {
   "display_name": "OCaml 4.07.0",
   "language": "OCaml",
   "name": "ocaml-jupyter"
  },
  "language_info": {
   "codemirror_mode": "text/x-ocaml",
   "file_extension": ".ml",
   "mimetype": "text/x-ocaml",
   "name": "OCaml",
   "nbconverter_exporter": null,
   "pygments_lexer": "OCaml",
   "version": "4.07.0"
  }
 },
 "nbformat": 4,
 "nbformat_minor": 2
}
